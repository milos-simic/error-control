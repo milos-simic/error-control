{
 "cells": [
  {
   "cell_type": "markdown",
   "id": "c86d6614",
   "metadata": {},
   "source": [
    "## Set up the Environment"
   ]
  },
  {
   "cell_type": "code",
   "execution_count": null,
   "id": "14d6ed38",
   "metadata": {
    "ExecuteTime": {
     "end_time": "2022-05-25T22:20:10.035766Z",
     "start_time": "2022-05-25T22:20:01.585343Z"
    }
   },
   "outputs": [],
   "source": [
    "from time import time\n",
    "import os\n",
    "import pathlib\n",
    "import pickle\n",
    "import importlib\n",
    "\n",
    "import pandas as pd\n",
    "import numpy as np\n",
    "from sklearn.pipeline import Pipeline\n",
    "from sklearn.impute import SimpleImputer\n",
    "from sklearn.preprocessing import StandardScaler\n",
    "from sklearn.preprocessing import OneHotEncoder\n",
    "from sklearn.compose import ColumnTransformer\n",
    "from sklearn.linear_model import LogisticRegression\n",
    "from sklearn.neighbors import KernelDensity\n",
    "from sklearn.decomposition import PCA\n",
    "from sklearn.model_selection import train_test_split\n",
    "import matplotlib.pyplot as plt\n",
    "import scipy.stats as st\n",
    "\n",
    "import pprint\n",
    "pp = pprint.PrettyPrinter(indent=4)\n",
    "\n",
    "from ectrl.control import split_the_data\n",
    "from ectrl.control import ClassificationTest, Umbrella, Typicality, DirectNP, TBC, EnsembleTBC\n",
    "from ectrl.control import ForcedInductiveConformal\n",
    "from ectrl.ratio import KernelDensityRatio\n",
    "from ectrl.augment import Interpolator\n",
    "from ectrl.evaluate import evaluate_once\n",
    "from ectrl.analyze import plot_3, analyze_numerically, select, style, plot_time"
   ]
  },
  {
   "cell_type": "code",
   "execution_count": null,
   "id": "38739e43",
   "metadata": {
    "ExecuteTime": {
     "end_time": "2022-05-25T22:20:10.046361Z",
     "start_time": "2022-05-25T22:20:10.041733Z"
    }
   },
   "outputs": [],
   "source": [
    "# Where to place the plots and the results\n",
    "res_dir = os.path.join('pima', 'results')\n",
    "\n",
    "# Make the directory if it doesn't exist\n",
    "pathlib.Path(res_dir).mkdir(parents=True, exist_ok=True)"
   ]
  },
  {
   "cell_type": "code",
   "execution_count": null,
   "id": "6eef4a3a",
   "metadata": {
    "ExecuteTime": {
     "end_time": "2022-05-25T22:20:10.152751Z",
     "start_time": "2022-05-25T22:20:10.047954Z"
    }
   },
   "outputs": [],
   "source": [
    "res_dir"
   ]
  },
  {
   "cell_type": "code",
   "execution_count": null,
   "id": "6abafb64",
   "metadata": {},
   "outputs": [],
   "source": [
    "set_prefix = 'pima_'"
   ]
  },
  {
   "cell_type": "markdown",
   "id": "bc389e0b",
   "metadata": {},
   "source": [
    "## Prepare the Data"
   ]
  },
  {
   "cell_type": "code",
   "execution_count": null,
   "id": "a5dca5d1",
   "metadata": {
    "ExecuteTime": {
     "end_time": "2022-05-25T22:20:13.259991Z",
     "start_time": "2022-05-25T22:20:13.150965Z"
    }
   },
   "outputs": [],
   "source": [
    "df = pd.read_csv('pima/diabetes.csv')"
   ]
  },
  {
   "cell_type": "code",
   "execution_count": null,
   "id": "075e2dc7",
   "metadata": {
    "ExecuteTime": {
     "end_time": "2022-05-25T22:20:15.496802Z",
     "start_time": "2022-05-25T22:20:15.225220Z"
    }
   },
   "outputs": [],
   "source": [
    "# Split the data into the features and ground-truth values\n",
    "y = df['Outcome'].values\n",
    "X = df.loc[:, [col for col in df.columns if col != 'Outcome']]"
   ]
  },
  {
   "cell_type": "code",
   "execution_count": null,
   "id": "5411a468",
   "metadata": {
    "ExecuteTime": {
     "end_time": "2022-05-25T22:20:18.306938Z",
     "start_time": "2022-05-25T22:20:18.302884Z"
    }
   },
   "outputs": [],
   "source": [
    "def create_preprocessor():\n",
    "    # Use the mean imputer and standard scaler for the numerical features.\n",
    "\n",
    "    # Define the preprocessor    \n",
    "    preprocessor = Pipeline(steps=[('imputer', SimpleImputer(strategy = 'mean') ),\n",
    "                                    ('std_scaler', StandardScaler())\n",
    "                                ])\n",
    "    \n",
    "    return preprocessor\n",
    "\n",
    "def create_classifier():\n",
    "    lr = LogisticRegression()\n",
    "    return lr\n",
    "\n",
    "def create_clf_pipeline():\n",
    "    preprocessor = create_preprocessor()\n",
    "    lr = create_classifier()\n",
    "    \n",
    "    pipeline = Pipeline(\n",
    "        steps=[\n",
    "            ('preprocessor', preprocessor),\n",
    "            ('classifier', lr)\n",
    "        ]\n",
    "    )\n",
    "    \n",
    "    return pipeline\n",
    "    "
   ]
  },
  {
   "cell_type": "code",
   "execution_count": null,
   "id": "cab2e95c",
   "metadata": {},
   "outputs": [],
   "source": [
    "target_class = 1"
   ]
  },
  {
   "cell_type": "code",
   "execution_count": null,
   "id": "830f66ad",
   "metadata": {},
   "outputs": [],
   "source": [
    "(y == target_class).sum(), (y == 1 - target_class).sum()"
   ]
  },
  {
   "cell_type": "markdown",
   "id": "62d6f2cd",
   "metadata": {},
   "source": [
    "## Create Controllers"
   ]
  },
  {
   "cell_type": "code",
   "execution_count": null,
   "id": "2e91c4d6",
   "metadata": {},
   "outputs": [],
   "source": [
    "controllers = {}"
   ]
  },
  {
   "cell_type": "markdown",
   "id": "c4c9c6c4",
   "metadata": {},
   "source": [
    "### SCT"
   ]
  },
  {
   "cell_type": "code",
   "execution_count": null,
   "id": "9446f0a0",
   "metadata": {
    "ExecuteTime": {
     "end_time": "2022-05-18T22:25:06.342169Z",
     "start_time": "2022-05-18T22:25:06.330940Z"
    }
   },
   "outputs": [],
   "source": [
    "# Define a pipeline containing the preprocessor and classifier\n",
    "clf = create_clf_pipeline()\n",
    "\n",
    "# Define a function to extract the score\n",
    "def lr_statistic(classifier, X):\n",
    "    X = classifier['preprocessor'].transform(X)\n",
    "    return classifier['classifier'].decision_function(X)\n",
    "\n",
    "lr_test = ClassificationTest(clf, lr_statistic,\n",
    "                              reserve=0.5,\n",
    "                              ci=None,\n",
    "                              augmentor=None,\n",
    "                              sample_size=None,\n",
    "                              target_class=target_class\n",
    ")\n",
    "\n",
    "controllers['SCT'] = lr_test"
   ]
  },
  {
   "cell_type": "markdown",
   "id": "8fd93ee8",
   "metadata": {},
   "source": [
    "### Umbrella"
   ]
  },
  {
   "cell_type": "code",
   "execution_count": null,
   "id": "217e70bf",
   "metadata": {
    "ExecuteTime": {
     "end_time": "2022-05-18T22:25:09.144821Z",
     "start_time": "2022-05-18T22:25:09.138387Z"
    }
   },
   "outputs": [],
   "source": [
    "for delta in [0.01, 0.05]:\n",
    "    for ensemble_size in [1, 5]:\n",
    "        base_clf = create_clf_pipeline()\n",
    "        ua = Umbrella(base_clf, lr_statistic, target_class=target_class,\n",
    "              delta=delta,\n",
    "              thresholds_size=0.5, # reserve 50% of target objects for classification\n",
    "              ensemble_size=ensemble_size\n",
    "        )\n",
    "        name = f'UA(delta={delta},m={ensemble_size})'\n",
    "        controllers[name] = ua"
   ]
  },
  {
   "cell_type": "markdown",
   "id": "96e42fbd",
   "metadata": {},
   "source": [
    "### TBC and WTBC"
   ]
  },
  {
   "cell_type": "code",
   "execution_count": null,
   "id": "4f432ff4",
   "metadata": {},
   "outputs": [],
   "source": [
    "# Add TBC and WTBC controllers\n",
    "for k in [3, 5, 7, 10]:\n",
    "    for test in ['mwu', 'ttest_ind']:\n",
    "        for distance in ['cityblock', 'cosine']:\n",
    "            for weights in ['none', 'reciprocal']:\n",
    "                tbc = TBC(k=k, test=test, distance=distance,\n",
    "                          weights=weights, target_class=target_class)\n",
    "                preprocessor = create_preprocessor()\n",
    "                if weights != 'none':\n",
    "                    method = 'WTBC'\n",
    "                else:\n",
    "                    method = 'TBC'\n",
    "                name = f'{method}(k={k},test={test},distance={distance})'\n",
    "                controllers[name] = Pipeline(steps=[('preprocessor', preprocessor),\n",
    "                                                (method, tbc)])"
   ]
  },
  {
   "cell_type": "markdown",
   "id": "13b766ab",
   "metadata": {},
   "source": [
    "### CPF"
   ]
  },
  {
   "cell_type": "code",
   "execution_count": null,
   "id": "edaea9dd",
   "metadata": {},
   "outputs": [],
   "source": [
    "# Add CPF\n",
    "def lr_statistic_for_cpf(lr_classifier, X):\n",
    "    return lr_classifier.decision_function(X)\n",
    "\n",
    "for nonconformity in ['score', 'avgdev', 'nearest_neighbor']:\n",
    "    clf = create_classifier()\n",
    "    cpf = ForcedInductiveConformal(clf, lr_statistic_for_cpf,\n",
    "                               target_class=target_class, alpha=0.05,\n",
    "                               reserve=0.5, # use 50% as D_proper\n",
    "                                            # and the remaining 50% for calibration\n",
    "                               nonconformity=nonconformity,\n",
    "                               random_state=None)\n",
    "    cpf = Pipeline(steps=[ ('preprocessor', create_preprocessor()), ('CPF', cpf)])\n",
    "    name = f'CPF(nonconformity={nonconformity})'\n",
    "    controllers[name] = cpf"
   ]
  },
  {
   "cell_type": "markdown",
   "id": "0092651d",
   "metadata": {},
   "source": [
    "### Typicality"
   ]
  },
  {
   "cell_type": "code",
   "execution_count": null,
   "id": "4799f3d5",
   "metadata": {
    "ExecuteTime": {
     "end_time": "2022-05-18T22:25:09.592208Z",
     "start_time": "2022-05-18T22:25:09.587138Z"
    }
   },
   "outputs": [],
   "source": [
    "# Add Typicality Indices\n",
    "\n",
    "# Combine the preprocessor and the density estimator\n",
    "density_pipeline = Pipeline([\n",
    "    ('preprocessor', create_preprocessor()),\n",
    "    ('kde', KernelDensity()),\n",
    "])\n",
    "\n",
    "typicality = Typicality(density_pipeline, target_class=target_class)\n",
    "\n",
    "controllers['TI'] = typicality"
   ]
  },
  {
   "cell_type": "markdown",
   "id": "57c2a555",
   "metadata": {},
   "source": [
    "### Direct Neyman-Pearson Classification"
   ]
  },
  {
   "cell_type": "code",
   "execution_count": null,
   "id": "fa9b5e3b",
   "metadata": {
    "ExecuteTime": {
     "end_time": "2022-05-18T22:25:12.591412Z",
     "start_time": "2022-05-18T22:25:12.583701Z"
    }
   },
   "outputs": [],
   "source": [
    "# Add DNP\n",
    "\n",
    "# instantiate a kernel density-ratio estimator\n",
    "kdr = KernelDensityRatio(kernel='polynomial', kernel_parameters={'degree' : 2})\n",
    "\n",
    "direct_np = DirectNP(kdr,\n",
    "                     target_class=target_class,\n",
    "                     threshold_subset_size=0.5)\n",
    "\n",
    "dnp = Pipeline(steps=[('preprocessor', create_preprocessor()),\n",
    "                      ('NPD', direct_np)])\n",
    "\n",
    "controllers['DNP'] = dnp"
   ]
  },
  {
   "cell_type": "code",
   "execution_count": null,
   "id": "ac879b84",
   "metadata": {},
   "outputs": [],
   "source": [
    "print(len(controllers))"
   ]
  },
  {
   "cell_type": "markdown",
   "id": "0200960a",
   "metadata": {
    "ExecuteTime": {
     "end_time": "2022-04-17T23:23:05.152928Z",
     "start_time": "2022-04-17T23:23:05.142165Z"
    }
   },
   "source": [
    "## Evaluate the Controllers"
   ]
  },
  {
   "cell_type": "code",
   "execution_count": null,
   "id": "f3b2d869",
   "metadata": {
    "ExecuteTime": {
     "end_time": "2022-05-18T22:25:16.122977Z",
     "start_time": "2022-05-18T22:25:16.117030Z"
    }
   },
   "outputs": [],
   "source": [
    "# Settings\n",
    "seed = 11\n",
    "eval_size = 0.3\n",
    "nominal_rates =  np.arange(0.01, 1, 0.01)\n",
    "confidence_level = 0.99"
   ]
  },
  {
   "cell_type": "code",
   "execution_count": null,
   "id": "3af75f3f",
   "metadata": {
    "ExecuteTime": {
     "end_time": "2022-05-18T22:25:17.424566Z",
     "start_time": "2022-05-18T22:25:17.417294Z"
    },
    "scrolled": false
   },
   "outputs": [],
   "source": [
    "# Run the experiment and evaluate all the controllers\n",
    "eval_results = evaluate_once(\n",
    "    controllers, \n",
    "    X, y, \n",
    "    target_class,\n",
    "    eval_size,\n",
    "    seed, \n",
    "    nominal_rates,\n",
    "    confidence_level=confidence_level\n",
    ")"
   ]
  },
  {
   "cell_type": "code",
   "execution_count": null,
   "id": "50f7aca0",
   "metadata": {},
   "outputs": [],
   "source": [
    "# Unpack the results\n",
    "df_results, df_clf_times, df_fit_times = eval_results"
   ]
  },
  {
   "cell_type": "code",
   "execution_count": null,
   "id": "44ff6112",
   "metadata": {},
   "outputs": [],
   "source": [
    "# Save the results\n",
    "filepath = os.path.join(res_dir, 'df_results.csv')\n",
    "df_results.to_csv(filepath, index=False)\n",
    "\n",
    "filepath = os.path.join(res_dir, 'df_fit_times.csv')\n",
    "df_fit_times.to_csv(filepath, index=False)\n",
    "\n",
    "filepath = os.path.join(res_dir, 'df_clf_times.csv')\n",
    "df_clf_times.to_csv(filepath, index=False)"
   ]
  },
  {
   "cell_type": "markdown",
   "id": "338cfecd",
   "metadata": {},
   "source": [
    "## Analyze"
   ]
  },
  {
   "cell_type": "markdown",
   "id": "f2010bf7",
   "metadata": {},
   "source": [
    "### Load the Results"
   ]
  },
  {
   "cell_type": "code",
   "execution_count": null,
   "id": "021f9c90",
   "metadata": {
    "ExecuteTime": {
     "end_time": "2022-05-18T22:33:00.595558Z",
     "start_time": "2022-05-18T22:33:00.548518Z"
    }
   },
   "outputs": [],
   "source": [
    "filepath = os.path.join(res_dir, 'df_results.csv')\n",
    "df_results = pd.read_csv(filepath)\n",
    "\n",
    "filepath = os.path.join(res_dir, 'df_fit_times.csv')\n",
    "df_fit_times = pd.read_csv(filepath)\n",
    "\n",
    "filepath = os.path.join(res_dir, 'df_clf_times.csv')\n",
    "df_clf_times = pd.read_csv(filepath)"
   ]
  },
  {
   "cell_type": "markdown",
   "id": "b772ca69",
   "metadata": {},
   "source": [
    "### Choose the Best UA"
   ]
  },
  {
   "cell_type": "code",
   "execution_count": null,
   "id": "a7b6f98f",
   "metadata": {},
   "outputs": [],
   "source": [
    "choices = {}"
   ]
  },
  {
   "cell_type": "code",
   "execution_count": null,
   "id": "48d1b8a2",
   "metadata": {
    "ExecuteTime": {
     "end_time": "2022-05-18T18:33:18.198256Z",
     "start_time": "2022-05-18T18:33:18.180772Z"
    }
   },
   "outputs": [],
   "source": [
    "plot_3(\n",
    "    df_results[df_results['method'] == 'UA'],\n",
    "    'nominal',\n",
    "    'target_estimate', \n",
    "    'delta',\n",
    "    ribbon=('target_lower', 'target_upper'),\n",
    "    ab = (1, 0), \n",
    "    display_plot=True,\n",
    "    save_plot=True, location=res_dir, prefix=set_prefix + 'UA',\n",
    "    width=7, height=5,\n",
    "    facet_parameter='ensemble_size'\n",
    ")"
   ]
  },
  {
   "cell_type": "code",
   "execution_count": null,
   "id": "ab2df090",
   "metadata": {},
   "outputs": [],
   "source": [
    "plot_3(\n",
    "    df_results[df_results['method'] == 'UA'],\n",
    "    'target_estimate',\n",
    "    'nontarget_estimate', \n",
    "    'delta',\n",
    "    ribbon=('nontarget_lower', 'nontarget_upper'), \n",
    "    display_plot=True,\n",
    "    save_plot=True, location=res_dir, prefix=set_prefix + 'UA',\n",
    "    width=7, height=5,\n",
    "    facet_parameter='ensemble_size'\n",
    ")"
   ]
  },
  {
   "cell_type": "code",
   "execution_count": null,
   "id": "d0139fe7",
   "metadata": {},
   "outputs": [],
   "source": [
    "r = analyze_numerically(df_results, ['delta', 'ensemble_size'], 'UA')\n",
    "r.sort_values('D(A, OA)')"
   ]
  },
  {
   "cell_type": "code",
   "execution_count": null,
   "id": "d7c9c8c1",
   "metadata": {},
   "outputs": [],
   "source": [
    "r.sort_values('D(A, B, OA)')"
   ]
  },
  {
   "cell_type": "code",
   "execution_count": null,
   "id": "138cd2d0",
   "metadata": {},
   "outputs": [],
   "source": [
    "choices['UA'] = {\n",
    "    'exact' : {\n",
    "        'ensemble_size' : 5,\n",
    "        'delta' : 0.05\n",
    "    },\n",
    "    'valid' : {\n",
    "        'ensemble_size' : 5,\n",
    "        'delta' : 0.05\n",
    "    }\n",
    "}"
   ]
  },
  {
   "cell_type": "markdown",
   "id": "b4d205f0",
   "metadata": {},
   "source": [
    "### Choose the Best TBC"
   ]
  },
  {
   "cell_type": "code",
   "execution_count": null,
   "id": "bc9facf4",
   "metadata": {},
   "outputs": [],
   "source": [
    "plot_3(\n",
    "    df_results[df_results['method'] == 'TBC'],\n",
    "    'nominal',\n",
    "    'target_estimate', \n",
    "    'k',\n",
    "    #ribbon=('target_lower', 'target_upper'),\n",
    "    ab = (1, 0), \n",
    "    display_plot=True,\n",
    "    save_plot=True, location=res_dir, prefix=set_prefix + 'TBC',\n",
    "    width=7, height=5,\n",
    "    facet_parameter='test+distance'\n",
    ")"
   ]
  },
  {
   "cell_type": "code",
   "execution_count": null,
   "id": "271b3fde",
   "metadata": {},
   "outputs": [],
   "source": [
    "plot_3(\n",
    "    df_results[df_results['method'] == 'TBC'],\n",
    "    'target_estimate',\n",
    "    'nontarget_estimate',\n",
    "    'k',\n",
    "    #ribbon=('nontarget_lower', 'nontarget_upper'),\n",
    "    display_plot=True,\n",
    "    save_plot=True, location=res_dir, prefix=set_prefix + 'TBC',\n",
    "    width=7, height=5,\n",
    "    facet_parameter='test+distance'\n",
    ")"
   ]
  },
  {
   "cell_type": "code",
   "execution_count": null,
   "id": "3ee263c5",
   "metadata": {},
   "outputs": [],
   "source": [
    "plot_3(\n",
    "    df_results[df_results['method'] == 'TBC'],\n",
    "    'nominal',\n",
    "    'nontarget_estimate',\n",
    "    'k',\n",
    "    #ribbon=('nontarget_lower', 'nontarget_upper'),\n",
    "    display_plot=True,\n",
    "    save_plot=True, location=res_dir, prefix=set_prefix + 'TBC',\n",
    "    width=7, height=5,\n",
    "    facet_parameter='test+distance'\n",
    ")"
   ]
  },
  {
   "cell_type": "code",
   "execution_count": null,
   "id": "ba7e1ca2",
   "metadata": {},
   "outputs": [],
   "source": [
    "r = analyze_numerically(df_results, ['k', 'test', 'distance'], 'TBC')\n",
    "r.sort_values('D(A, OA)')"
   ]
  },
  {
   "cell_type": "code",
   "execution_count": null,
   "id": "4952d3da",
   "metadata": {},
   "outputs": [],
   "source": [
    "r.sort_values('D(A, B, OA)')"
   ]
  },
  {
   "cell_type": "code",
   "execution_count": null,
   "id": "f5e6a239",
   "metadata": {},
   "outputs": [],
   "source": [
    "choices['TBC'] = {\n",
    "    'valid' : {\n",
    "        'k' : 3,\n",
    "        'test' : 'ttest_ind',\n",
    "        'distance' : 'cosine'\n",
    "    },\n",
    "    'exact' : {\n",
    "        'k' : 3,\n",
    "        'test' : 'ttest_ind',\n",
    "        'distance' : 'cityblock'\n",
    "    }\n",
    "}"
   ]
  },
  {
   "cell_type": "markdown",
   "id": "1f285f5c",
   "metadata": {},
   "source": [
    "### Choose the Best WTBC"
   ]
  },
  {
   "cell_type": "code",
   "execution_count": null,
   "id": "60f83473",
   "metadata": {},
   "outputs": [],
   "source": [
    "plot_3(\n",
    "    df_results[df_results['method'] == 'WTBC'],\n",
    "    'nominal',\n",
    "    'target_estimate', \n",
    "    'k',\n",
    "    #ribbon=('target_lower', 'target_upper'),\n",
    "    ab = (1, 0), \n",
    "    display_plot=True,\n",
    "    save_plot=True, location=res_dir, prefix=set_prefix + 'WTBC',\n",
    "    width=7, height=5,\n",
    "    facet_parameter='test+distance'\n",
    ")"
   ]
  },
  {
   "cell_type": "code",
   "execution_count": null,
   "id": "072e2096",
   "metadata": {},
   "outputs": [],
   "source": [
    "plot_3(\n",
    "    df_results[df_results['method'] == 'WTBC'],\n",
    "    'target_estimate',\n",
    "    'nontarget_estimate',\n",
    "    'k',\n",
    "    #ribbon=('nontarget_lower', 'nontarget_upper'),\n",
    "    display_plot=True,\n",
    "    save_plot=True, location=res_dir, prefix=set_prefix + 'WTBC',\n",
    "    width=7, height=5,\n",
    "    facet_parameter='test+distance'\n",
    ")"
   ]
  },
  {
   "cell_type": "code",
   "execution_count": null,
   "id": "e8f03167",
   "metadata": {},
   "outputs": [],
   "source": [
    "r = analyze_numerically(df_results, ['k', 'test', 'distance'], 'WTBC')\n",
    "r.sort_values('A')"
   ]
  },
  {
   "cell_type": "code",
   "execution_count": null,
   "id": "a8a1db00",
   "metadata": {},
   "outputs": [],
   "source": [
    "r.sort_values('D(A, B, OA)')"
   ]
  },
  {
   "cell_type": "code",
   "execution_count": null,
   "id": "8f599a89",
   "metadata": {},
   "outputs": [],
   "source": [
    "choices['WTBC'] = {\n",
    "    'exact' : {\n",
    "        'k' : 10,\n",
    "        'test' : 'mwu',\n",
    "        'distance' : 'cityblock'\n",
    "    },\n",
    "    'valid' : {\n",
    "        'k' : 3,\n",
    "        'test' : 'mwu',\n",
    "        'distance' : 'cosine'\n",
    "    }\n",
    "}"
   ]
  },
  {
   "cell_type": "markdown",
   "id": "ca10594c",
   "metadata": {},
   "source": [
    "### Choose the Best CPF"
   ]
  },
  {
   "cell_type": "code",
   "execution_count": null,
   "id": "1c674f27",
   "metadata": {},
   "outputs": [],
   "source": [
    "plot_3(\n",
    "    df_results[df_results['method'] == 'CPF'],\n",
    "    'nominal',\n",
    "    'target_estimate', \n",
    "    'nonconformity',\n",
    "    ribbon=('target_lower', 'target_upper'),\n",
    "    ab = (1, 0), \n",
    "    display_plot=True,\n",
    "    save_plot=True, location=res_dir, prefix=set_prefix + 'CPF',\n",
    "    width=7, height=5\n",
    ")"
   ]
  },
  {
   "cell_type": "code",
   "execution_count": null,
   "id": "f2eb659c",
   "metadata": {},
   "outputs": [],
   "source": [
    "plot_3(\n",
    "    df_results[df_results['method'] == 'CPF'],\n",
    "    'target_estimate',\n",
    "    'nontarget_estimate',\n",
    "    'nonconformity',\n",
    "    ribbon=('nontarget_lower', 'nontarget_upper'),\n",
    "    display_plot=True,\n",
    "    save_plot=True, location=res_dir, prefix=set_prefix + 'WTBC',\n",
    "    width=7, height=5\n",
    ")"
   ]
  },
  {
   "cell_type": "code",
   "execution_count": null,
   "id": "25c044fc",
   "metadata": {},
   "outputs": [],
   "source": [
    "r = analyze_numerically(df_results, ['nonconformity'], 'CPF')\n",
    "r.sort_values('D(A, OA)')"
   ]
  },
  {
   "cell_type": "code",
   "execution_count": null,
   "id": "923ac1c3",
   "metadata": {},
   "outputs": [],
   "source": [
    "r.sort_values('D(A, B, OA)')"
   ]
  },
  {
   "cell_type": "code",
   "execution_count": null,
   "id": "1b4c04ac",
   "metadata": {},
   "outputs": [],
   "source": [
    "choices['CPF'] = {\n",
    "    'valid' : {\n",
    "        'nonconformity' : 'nearest_neighbor'\n",
    "    },\n",
    "    'exact' : {\n",
    "        'nonconformity' : 'avgdev'\n",
    "    }\n",
    "}"
   ]
  },
  {
   "cell_type": "markdown",
   "id": "3b53feb3",
   "metadata": {},
   "source": [
    "### Filter"
   ]
  },
  {
   "cell_type": "code",
   "execution_count": null,
   "id": "60adccd1",
   "metadata": {},
   "outputs": [],
   "source": [
    "choices['SCT'] = {'exact' : {}, 'valid' : {}}\n",
    "choices['TI'] = {'exact' : {}, 'valid' : {}}\n",
    "choices['DNP'] = {'exact' : {}, 'valid' : {}}\n",
    "\n",
    "pp.pprint(choices)"
   ]
  },
  {
   "cell_type": "code",
   "execution_count": null,
   "id": "a2cdd665",
   "metadata": {},
   "outputs": [],
   "source": [
    "results_dfs = {}\n",
    "clf_times_dfs = {}\n",
    "fit_times_dfs = {}\n",
    "\n",
    "for focus in ['exact', 'valid']:\n",
    "    focus_choices = {method : choices[method][focus] for method in choices}\n",
    "    results_dfs[focus] = select(df_results, focus_choices)\n",
    "    clf_times_dfs[focus] = select(df_clf_times, focus_choices)\n",
    "    fit_times_dfs[focus] = select(df_fit_times, focus_choices)"
   ]
  },
  {
   "cell_type": "code",
   "execution_count": null,
   "id": "eca0733c",
   "metadata": {},
   "outputs": [],
   "source": [
    "f = os.path.join(res_dir, f'{set_prefix}choices.p')\n",
    "pickle.dump(choices, open(f, 'wb'))"
   ]
  },
  {
   "cell_type": "markdown",
   "id": "46243522",
   "metadata": {},
   "source": [
    "### Analyze Time"
   ]
  },
  {
   "cell_type": "markdown",
   "id": "f2d21e4a",
   "metadata": {},
   "source": [
    "#### Average Classification Time"
   ]
  },
  {
   "cell_type": "code",
   "execution_count": null,
   "id": "b6146e1e",
   "metadata": {
    "ExecuteTime": {
     "end_time": "2022-05-18T22:49:47.439229Z",
     "start_time": "2022-05-18T22:49:47.417872Z"
    }
   },
   "outputs": [],
   "source": [
    "for focus in clf_times_dfs:\n",
    "    print(focus)\n",
    "    display(clf_times_dfs[focus][['method', 'time']].sort_values('time'))"
   ]
  },
  {
   "cell_type": "code",
   "execution_count": null,
   "id": "3b2a61ea",
   "metadata": {},
   "outputs": [],
   "source": [
    "for focus in clf_times_dfs:\n",
    "    plot_time(clf_times_dfs[focus], 'method', 'time', 'method',\n",
    "         location=res_dir, name=set_prefix + f'{focus}_average_classification_time.jpg')"
   ]
  },
  {
   "cell_type": "markdown",
   "id": "b603cf5d",
   "metadata": {},
   "source": [
    "#### Fit Times"
   ]
  },
  {
   "cell_type": "code",
   "execution_count": null,
   "id": "efd05152",
   "metadata": {},
   "outputs": [],
   "source": [
    "for focus in fit_times_dfs:\n",
    "    print(focus)\n",
    "    display(fit_times_dfs[focus][['method', 'time']].sort_values('time'))"
   ]
  },
  {
   "cell_type": "code",
   "execution_count": null,
   "id": "343c17af",
   "metadata": {},
   "outputs": [],
   "source": [
    "for focus in fit_times_dfs:\n",
    "    plot_time(fit_times_dfs[focus], 'method', 'time', 'method',\n",
    "         location=res_dir, name=set_prefix + f'{focus}_fit_times.jpg')"
   ]
  },
  {
   "cell_type": "markdown",
   "id": "b1b39480",
   "metadata": {},
   "source": [
    "### Check the Rates"
   ]
  },
  {
   "cell_type": "markdown",
   "id": "bc32a959",
   "metadata": {},
   "source": [
    "#### Nominal vs. Target Estimate"
   ]
  },
  {
   "cell_type": "code",
   "execution_count": null,
   "id": "07660405",
   "metadata": {},
   "outputs": [],
   "source": [
    "import ectrl.analyze\n",
    "importlib.reload(ectrl.analyze)\n",
    "from ectrl.analyze import style, plot_3"
   ]
  },
  {
   "cell_type": "code",
   "execution_count": null,
   "id": "ea490eed",
   "metadata": {},
   "outputs": [],
   "source": [
    "for focus in results_dfs:\n",
    "    print(focus)\n",
    "    g = plot_3(\n",
    "        results_dfs[focus],\n",
    "        'nominal',\n",
    "        'target_estimate',\n",
    "        'method',\n",
    "        #ribbon=('target_lower', 'target_upper'),\n",
    "        line_size=1.5,\n",
    "        ab=(1, 0),\n",
    "        legend_position=(0.35, 0.8), legend_name='no-title', legend_ncol=2,\n",
    "        legend_text_size=15, legend_key_width=35,\n",
    "        display_plot=True,\n",
    "        save_plot=True, location=res_dir, width=5.35, height=4.35,\n",
    "        prefix= set_prefix + f'_{focus}_'\n",
    "    )\n",
    "\n",
    "# WTBC, TBC\n",
    "# DNP, TI\n",
    "# SCT, UA\n",
    "# CPF"
   ]
  },
  {
   "cell_type": "markdown",
   "id": "cdc56cf7",
   "metadata": {},
   "source": [
    "#### Target vs. Other (Estimates)"
   ]
  },
  {
   "cell_type": "code",
   "execution_count": null,
   "id": "f486b5a7",
   "metadata": {},
   "outputs": [],
   "source": [
    "for focus in results_dfs:\n",
    "    print(focus)\n",
    "    plot_3(\n",
    "        results_dfs[focus],\n",
    "        'target_estimate',\n",
    "        'nontarget_estimate',\n",
    "        'method',\n",
    "        ribbon=('nontarget_lower', 'nontarget_upper'),\n",
    "        save_plot=True, location=res_dir, width=5, height=4,\n",
    "        prefix=set_prefix + f'_{focus}_'\n",
    "    )"
   ]
  },
  {
   "cell_type": "markdown",
   "id": "0b516ee3",
   "metadata": {},
   "source": [
    "#### Nominal vs. Other"
   ]
  },
  {
   "cell_type": "code",
   "execution_count": null,
   "id": "0d2bb9cf",
   "metadata": {},
   "outputs": [],
   "source": [
    "import ectrl.analyze\n",
    "importlib.reload(ectrl.analyze)\n",
    "from ectrl.analyze import style, plot_3"
   ]
  },
  {
   "cell_type": "code",
   "execution_count": null,
   "id": "ece0e2be",
   "metadata": {
    "ExecuteTime": {
     "end_time": "2022-05-18T18:29:50.350721Z",
     "start_time": "2022-05-18T18:29:50.246198Z"
    }
   },
   "outputs": [],
   "source": [
    "for focus in results_dfs:\n",
    "    print(focus)\n",
    "    g = plot_3(\n",
    "        results_dfs[focus],\n",
    "        'nominal',\n",
    "        'nontarget_estimate',\n",
    "        'method',\n",
    "        ribbon=('nontarget_lower', 'nontarget_upper'),\n",
    "        legend_position=(0.5, 0.9), legend_name='', legend_ncol=4, legend_title=False,\n",
    "        legend_text_size=13, legend_key_width=35, legend_key_height=10,\n",
    "        display_plot=True,\n",
    "        save_plot=True, location=res_dir, width=5.35, height=4.35,\n",
    "        prefix= set_prefix + f'_{focus}_'\n",
    "    )"
   ]
  },
  {
   "cell_type": "markdown",
   "id": "f8253dbb",
   "metadata": {},
   "source": [
    "#### Nominal vs. Accuracy"
   ]
  },
  {
   "cell_type": "code",
   "execution_count": null,
   "id": "2fff9c0d",
   "metadata": {
    "ExecuteTime": {
     "end_time": "2022-05-18T16:00:21.734047Z",
     "start_time": "2022-05-18T16:00:21.731293Z"
    }
   },
   "outputs": [],
   "source": [
    "for focus in results_dfs:\n",
    "    print(focus)\n",
    "    plot_3(\n",
    "        results_dfs[focus],\n",
    "        'nominal',\n",
    "        'accuracy_estimate',\n",
    "        'method',\n",
    "        ribbon=('accuracy_lower', 'accuracy_upper'),\n",
    "        save_plot=True, location=res_dir, width=5, height=4,\n",
    "        prefix=set_prefix + f'_{focus}_'\n",
    "    )"
   ]
  },
  {
   "cell_type": "markdown",
   "id": "e9872e98",
   "metadata": {},
   "source": [
    "#### Target Estimate vs. Accuracy"
   ]
  },
  {
   "cell_type": "code",
   "execution_count": null,
   "id": "901574e2",
   "metadata": {},
   "outputs": [],
   "source": [
    "for focus in results_dfs:\n",
    "    print(focus)\n",
    "    plot_3(\n",
    "        df_results,\n",
    "        'target_estimate',\n",
    "        'accuracy_estimate',\n",
    "        'method',\n",
    "        #ribbon=('accuracy_lower', 'accuracy_upper'),\n",
    "        save_plot=True, location=res_dir, width=5, height=4,\n",
    "        prefix=set_prefix + f'_{focus}_'\n",
    ")"
   ]
  },
  {
   "cell_type": "markdown",
   "id": "45aa5b80",
   "metadata": {},
   "source": [
    "## Nondeterministic Test"
   ]
  },
  {
   "cell_type": "code",
   "execution_count": null,
   "id": "3c92a099",
   "metadata": {
    "ExecuteTime": {
     "end_time": "2022-05-19T01:45:16.013195Z",
     "start_time": "2022-05-19T01:45:15.981945Z"
    }
   },
   "outputs": [],
   "source": [
    "# Make a pipeline containing the preprocessor and classifier\n",
    "clf = create_clf_pipeline()"
   ]
  },
  {
   "cell_type": "code",
   "execution_count": null,
   "id": "46084e40",
   "metadata": {
    "ExecuteTime": {
     "end_time": "2022-05-19T01:45:23.731450Z",
     "start_time": "2022-05-19T01:45:23.622161Z"
    }
   },
   "outputs": [],
   "source": [
    "from datetime import datetime\n",
    "from statsmodels.stats.proportion import proportion_confint\n",
    "import math\n",
    "\n",
    "res_dir = os.path.join(res_dir, 'nondet')\n",
    "pathlib.Path(res_dir).mkdir(parents=True, exist_ok=True)\n",
    "\n",
    "res_dir"
   ]
  },
  {
   "cell_type": "code",
   "execution_count": null,
   "id": "8672094a",
   "metadata": {
    "ExecuteTime": {
     "end_time": "2022-05-19T02:14:08.940161Z",
     "start_time": "2022-05-19T02:14:08.926062Z"
    }
   },
   "outputs": [],
   "source": [
    "def evaluate(target, nominal, epsilon, runs, m, n, X, y, seeds, clf):\n",
    "    support = 0\n",
    "    estimates = []\n",
    "    lower_estimates = []\n",
    "    upper_estimates = []\n",
    "    errors = []\n",
    "\n",
    "    error = 0\n",
    "    lower_bound = (1 - nominal) / n\n",
    "    upper_bound = (epsilon * (n + 1) - nominal) / n\n",
    "        \n",
    "\n",
    "    for k in range(runs):\n",
    "        if k % 10 == 9:\n",
    "            print(k + 1, datetime.now().strftime('%H:%M:%S'), end='\\r', flush=True)\n",
    "        rng = np.random.default_rng(seeds[k])\n",
    "        X_cv, X_eval, y_cv, y_eval = train_test_split(X, y, \n",
    "                                                  test_size=0.3, \n",
    "                                                  stratify = y.tolist(),\n",
    "                                                 random_state=seeds[k])\n",
    "    \n",
    "        clf.set_params(**{'classifier__random_state' : seeds[k]})\n",
    "        clf = clf.fit(X_cv, y_cv)\n",
    "    \n",
    "        Z = X_eval.loc[y_eval == target, :].reset_index(drop=True)\n",
    "        scores = clf.decision_function(Z)\n",
    "    \n",
    "        false = 0\n",
    "        for j in range(m):\n",
    "            sample = rng.choice(scores, n + 1, replace=False)\n",
    "            score = sample[0]\n",
    "            sample = np.sort(sample[1:])\n",
    "        \n",
    "            if target == 1:\n",
    "                more_extreme = np.searchsorted(sample, score, 'right')\n",
    "            else:\n",
    "                i = np.searchsorted(sample, score, 'left')\n",
    "                more_extreme = n - i + 1\n",
    "        \n",
    "            p_value = more_extreme / n\n",
    "        \n",
    "            if epsilon > 0:\n",
    "                correction = rng.uniform(lower_bound, upper_bound)\n",
    "                if p_value + correction <= nominal:\n",
    "                    false = false + 1\n",
    "            else:\n",
    "                if p_value <= (nominal * (n + 1) - 1) / n:\n",
    "                    false = false + 1\n",
    "    \n",
    "        lower, upper = proportion_confint(false, m, 0.01, 'jeffreys')\n",
    "\n",
    "        estimate = false / m\n",
    "        estimates.append(estimate)\n",
    "    \n",
    "        lower_estimates.append(lower)\n",
    "        upper_estimates.append(upper)\n",
    "    \n",
    "        if nominal < estimate:\n",
    "            error = error + (estimate - nominal)\n",
    "        elif estimate < nominal - epsilon:\n",
    "            error = error + (nominal - epsilon - estimate)\n",
    "            \n",
    "    return (lower_estimates, estimates, upper_estimates, error)"
   ]
  },
  {
   "cell_type": "code",
   "execution_count": null,
   "id": "2718a062",
   "metadata": {
    "ExecuteTime": {
     "end_time": "2022-05-19T02:22:01.285408Z",
     "start_time": "2022-05-19T02:14:14.202620Z"
    },
    "scrolled": false
   },
   "outputs": [],
   "source": [
    "runs = 100\n",
    "target = 1\n",
    "seeds = [11*k + 19 for k in range(runs)]\n",
    "m = 10000\n",
    "\n",
    "results = {}\n",
    "errors = []\n",
    "supports = []\n",
    "\n",
    "for nominal in [0.05, 0.075, 0.1, 0.15, 0.2]: \n",
    "    for n in [50, 80]: \n",
    "        epsilon = 0.02 \n",
    "        if nominal <= epsilon or epsilon < 1 / (n + 1):\n",
    "            continue\n",
    "        print(nominal, n, epsilon, '\\n')\n",
    "\n",
    "        results[(nominal, n)] = {}\n",
    "\n",
    "        lower, estimates, upper, error = evaluate(target, nominal, epsilon,\n",
    "                                                 runs, m, n, X, y, seeds, clf)\n",
    "        \n",
    "        results[(nominal, n)]['df'] = pd.DataFrame(\n",
    "            {'lower':lower, 'estimates': estimates, 'upper':upper}\n",
    "        )\n",
    "        errors.append([nominal, n, error/runs])\n",
    "        \n",
    "        support = 0\n",
    "        for i in range(runs):\n",
    "            if nominal - epsilon <= estimates[i] <= nominal:\n",
    "                support = support + 1\n",
    "\n",
    "        e = support / runs\n",
    "        l, u = proportion_confint(support, runs, 0.01, 'jeffreys')\n",
    "        supports.append([nominal, n, l, e, u])"
   ]
  },
  {
   "cell_type": "code",
   "execution_count": null,
   "id": "328b9944",
   "metadata": {
    "ExecuteTime": {
     "end_time": "2022-05-19T02:23:06.934641Z",
     "start_time": "2022-05-19T02:23:06.923044Z"
    }
   },
   "outputs": [],
   "source": [
    "pickle.dump(results, open(os.path.join(res_dir, 'interval_df.p'), 'wb'))"
   ]
  },
  {
   "cell_type": "code",
   "execution_count": null,
   "id": "c9c702a5",
   "metadata": {
    "ExecuteTime": {
     "end_time": "2022-05-19T02:23:07.789778Z",
     "start_time": "2022-05-19T02:23:07.748976Z"
    }
   },
   "outputs": [],
   "source": [
    "res_nd = pickle.load(open(os.path.join(res_dir, 'interval_df.p'), 'rb'))\n",
    "res_nd"
   ]
  },
  {
   "cell_type": "code",
   "execution_count": null,
   "id": "aa655119",
   "metadata": {
    "ExecuteTime": {
     "end_time": "2022-05-19T02:23:10.909620Z",
     "start_time": "2022-05-19T02:23:10.903473Z"
    }
   },
   "outputs": [],
   "source": [
    "#errors # average errors"
   ]
  },
  {
   "cell_type": "code",
   "execution_count": null,
   "id": "91b88bf5",
   "metadata": {
    "ExecuteTime": {
     "end_time": "2022-05-19T02:23:19.386763Z",
     "start_time": "2022-05-19T02:23:16.368041Z"
    },
    "scrolled": false
   },
   "outputs": [],
   "source": [
    "epsilon = 0.02\n",
    "for key in res_nd:\n",
    "    alpha, n = key\n",
    "    print(key)\n",
    "    df = res_nd[key]['df']\n",
    "    runs = df.shape[0]\n",
    "    fig = plt.figure(figsize=(4, 2), dpi=500)\n",
    "    plt.rc('font', size=10) \n",
    "    x = list(range(runs))\n",
    "    plt.fill_between(x, df['lower'], df['upper'], color='red', alpha=0.2)\n",
    "    plt.plot(x, df['estimates'], color='blue', linestyle='--')\n",
    "\n",
    "    plt.plot(x, np.repeat(alpha, runs), color='black', linewidth=3)\n",
    "    plt.plot(x, np.repeat(alpha - epsilon, runs), color='black', linewidth=3)\n",
    "    \n",
    "    plt.xlabel('')\n",
    "    plt.ylabel('')\n",
    "    plt.xticks([])\n",
    "\n",
    "    filename = os.path.join(res_dir, f'{set_prefix}_interval_{key}.jpg')\n",
    "    plt.tight_layout()\n",
    "    plt.savefig(filename, dpi=500, figsize=(4, 2), bbox_inches='tight')\n",
    "    #plt.title(key)  "
   ]
  }
 ],
 "metadata": {
  "kernelspec": {
   "display_name": "neurips2022",
   "language": "python",
   "name": "neurips2022"
  },
  "language_info": {
   "codemirror_mode": {
    "name": "ipython",
    "version": 3
   },
   "file_extension": ".py",
   "mimetype": "text/x-python",
   "name": "python",
   "nbconvert_exporter": "python",
   "pygments_lexer": "ipython3",
   "version": "3.10.12"
  },
  "toc": {
   "base_numbering": 1,
   "nav_menu": {},
   "number_sections": false,
   "sideBar": true,
   "skip_h1_title": false,
   "title_cell": "Table of Contents",
   "title_sidebar": "Contents",
   "toc_cell": false,
   "toc_position": {
    "height": "calc(100% - 180px)",
    "left": "10px",
    "top": "150px",
    "width": "215.6px"
   },
   "toc_section_display": true,
   "toc_window_display": true
  }
 },
 "nbformat": 4,
 "nbformat_minor": 5
}
